{
 "cells": [
  {
   "cell_type": "markdown",
   "metadata": {},
   "source": [
    "## Proportion of Education\n",
    "This is a function called `proportion_of_education` which returns the proportion of children in the dataset who had a mother with the education levels equal to less than high school (<12), high school (12), more than high school but not a college graduate (>12) and college degree."
   ]
  },
  {
   "cell_type": "code",
   "execution_count": 1,
   "metadata": {},
   "outputs": [],
   "source": [
    "import pandas as pd\n",
    "def proportion_of_education():\n",
    "    df = pd.read_csv('NISPUF17.csv')\n",
    "    edu = df[['EDUC1']]\n",
    "    g1 = edu.where(edu['EDUC1'] == 1).dropna()\n",
    "    g2 = edu.where(edu['EDUC1'] == 2).dropna()\n",
    "    g3 = edu.where(edu['EDUC1'] == 3).dropna()\n",
    "    g4 = edu.where(edu['EDUC1'] == 4).dropna()\n",
    "    total = len(edu)\n",
    "    prop1 = len(g1)/total\n",
    "    prop2 = len(g2)/total\n",
    "    prop3 = len(g3)/total\n",
    "    prop4 = len(g4)/total\n",
    "    result = {\"less than high school\": prop1, \"high school\": prop2,\n",
    "        \"more than high school but not college\": prop3,\n",
    "        \"college\": prop4}\n",
    "    return result"
   ]
  },
  {
   "cell_type": "markdown",
   "metadata": {},
   "source": [
    "## Breastmilk fed and seasonal influenza vaccine injection\n",
    "This function will look into the relationship between being fed breastmilk as a child and getting a seasonal influenza vaccine from a healthcare provider, and returns a tuple of the average number of influenza vaccines for those children we know received breastmilk as a child and those who know did not."
   ]
  },
  {
   "cell_type": "code",
   "execution_count": null,
   "metadata": {},
   "outputs": [],
   "source": [
    "import pandas as pd\n",
    "def average_influenza_doses():\n",
    "    df = pd.read_csv('NISPUF17.csv')\n",
    "    breastmilk = df['CBF_01']\n",
    "    VacNum = df['P_NUMFLU']\n",
    "    temp = df[['CBF_01', 'P_NUMFLU']]\n",
    "    yesvac = temp.where(temp['CBF_01'] == 1).dropna()\n",
    "    a = yesvac['P_NUMFLU'].sum()/len(yesvac)\n",
    "    novac = temp.where(temp['CBF_01'] == 2).dropna()\n",
    "    b = novac['P_NUMFLU'].sum()/len(novac)\n",
    "    return (a, b)"
   ]
  },
  {
   "cell_type": "markdown",
   "metadata": {},
   "source": [
    "## Link between vaccine effectiveness and sex of the child\n",
    "It would be interesting to see if there is any evidence of a link between vaccine effectiveness and sex of the child. This function calculates the ratio of the number of children who contracted chickenpox but were vaccinated against it (at least one varicella dose) versus those who were vaccinated but did not contract chicken pox. Return results by sex.\n",
    "\n",
    "This function returns a dictionary."
   ]
  },
  {
   "cell_type": "code",
   "execution_count": null,
   "metadata": {},
   "outputs": [],
   "source": [
    "import pandas as pd\n",
    "def chickenpox_by_sex():\n",
    "    df = pd.read_csv('NISPUF17.csv')\n",
    "    df = df[['SEX', 'HAD_CPOX', 'P_NUMVRC']]\n",
    "    male = df.where((df['SEX'] == 1) & (df['P_NUMVRC'] > 0)).dropna()\n",
    "    female = df.where((df['SEX'] == 2)& (df['P_NUMVRC'] > 0)).dropna()\n",
    "\n",
    "    Ymale = male.where(male['HAD_CPOX'] == 1).dropna()\n",
    "    Nmale = male.where(male['HAD_CPOX'] == 2).dropna()\n",
    "    Yfemale = female.where(female['HAD_CPOX'] == 1).dropna()\n",
    "    Nfemale = female.where(female['HAD_CPOX'] == 2).dropna()\n",
    "    a = len(Ymale)/len(Nmale)\n",
    "    b = len(Yfemale)/len(Nfemale)\n",
    "    return {\"male\":a, \"female\":b}"
   ]
  },
  {
   "cell_type": "markdown",
   "metadata": {},
   "source": [
    "## Correlation between having had the chicken pox and the number of chickenpox vaccine doses given (varicella).\n",
    "This function is to see if there is a correlation between having had the chicken pox and the number of chickenpox vaccine doses given (varicella).\n",
    "\n",
    "Some notes on interpreting the answer. The had_chickenpox_column is either 1 (for yes) or 2 (for no), and the num_chickenpox_vaccine_column is the number of doses a child has been given of the varicella vaccine. A positive correlation (e.g., corr > 0) means that an increase in had_chickenpox_column (which means more no’s) would also increase the values of num_chickenpox_vaccine_column (which means more doses of vaccine). If there is a negative correlation (e.g., corr < 0), it indicates that having had chickenpox is related to an increase in the number of vaccine doses.\n",
    "\n",
    "Also, pval is the probability that we observe a correlation between had_chickenpox_column and num_chickenpox_vaccine_column which is greater than or equal to a particular value occurred by chance. A small pval means that the observed correlation is highly unlikely to occur by chance. In this case, pval should be very small (will end in e-18 indicating a very small number).\n",
    "\n",
    "This isn’t really the full picture, since we are not looking at when the dose was given. It’s possible that children had chickenpox and then their parents went to get them the vaccine."
   ]
  },
  {
   "cell_type": "code",
   "execution_count": null,
   "metadata": {},
   "outputs": [],
   "source": [
    "def corr_chickenpox():\n",
    "    import scipy.stats as stats\n",
    "    import numpy as np\n",
    "    import pandas as pd\n",
    "    df = pd.read_csv('NISPUF17.csv')\n",
    "    df = df[['HAD_CPOX', 'P_NUMVRC']].dropna()\n",
    "    df = df[df['HAD_CPOX'] <3]\n",
    "    corr, pval=stats.pearsonr(df[\"HAD_CPOX\"],df[\"P_NUMVRC\"])\n",
    "    return corr "
   ]
  }
 ],
 "metadata": {
  "kernelspec": {
   "display_name": "Python 3",
   "language": "python",
   "name": "python3"
  },
  "language_info": {
   "codemirror_mode": {
    "name": "ipython",
    "version": 3
   },
   "file_extension": ".py",
   "mimetype": "text/x-python",
   "name": "python",
   "nbconvert_exporter": "python",
   "pygments_lexer": "ipython3",
   "version": "3.8.3"
  }
 },
 "nbformat": 4,
 "nbformat_minor": 4
}
